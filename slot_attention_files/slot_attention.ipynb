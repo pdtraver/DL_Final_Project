{
  "nbformat": 4,
  "nbformat_minor": 0,
  "metadata": {
    "colab": {
      "provenance": []
    },
    "kernelspec": {
      "name": "python3",
      "display_name": "Python 3"
    },
    "language_info": {
      "name": "python"
    }
  },
  "cells": [
    {
      "cell_type": "markdown",
      "source": [
        "#Leave EDA for now"
      ],
      "metadata": {
        "id": "VZdbp8YqsVrK"
      }
    },
    {
      "cell_type": "code",
      "execution_count": 4,
      "metadata": {
        "colab": {
          "base_uri": "https://localhost:8080/"
        },
        "id": "ILZnqLO4uAD7",
        "outputId": "04a27827-1205-4037-ba31-47cb03c7147d"
      },
      "outputs": [
        {
          "output_type": "stream",
          "name": "stdout",
          "text": [
            "Drive already mounted at /content/drive/; to attempt to forcibly remount, call drive.mount(\"/content/drive/\", force_remount=True).\n",
            "/bin/bash: line 1: cd: drive/Mydrive: No such file or directory\n"
          ]
        }
      ],
      "source": [
        "from google.colab import drive\n",
        "drive.mount('/content/drive/')\n"
      ]
    },
    {
      "cell_type": "code",
      "source": [
        "# !gdown https://drive.google.com/uc?id=1iYTFuf4DgxgYQzTQ_2da1vC9es_niPRr\n",
        "# !tar -xvf dataset_student.zip"
      ],
      "metadata": {
        "id": "o4Q3gfyouWo3",
        "colab": {
          "base_uri": "https://localhost:8080/"
        },
        "outputId": "f3ce83ea-49c2-4e08-9a58-391156680648"
      },
      "execution_count": 2,
      "outputs": [
        {
          "output_type": "stream",
          "name": "stdout",
          "text": [
            "tar: dataset_student.zip: Cannot open: No such file or directory\n",
            "tar: Error is not recoverable: exiting now\n"
          ]
        }
      ]
    },
    {
      "cell_type": "code",
      "source": [
        "import glob\n",
        "import os\n",
        "import random\n",
        "from PIL import Image\n",
        "import numpy as np\n",
        "import matplotlib.pyplot as plt\n",
        "import torch\n",
        "import torch.nn as nn\n",
        "import torch.nn.functional as F\n",
        "import datetime\n",
        "import time"
      ],
      "metadata": {
        "id": "Jyl44rdzvhaG"
      },
      "execution_count": 2,
      "outputs": []
    },
    {
      "cell_type": "code",
      "source": [
        "# print(f\"The training set has {len(os.listdir('dataset/train'))} videos, and each video has {len(glob.glob('dataset/train/video_00000/*.png'))} frames and {len(glob.glob('dataset/train/video_00000/*.npy'))} mask file for all frames\")\n",
        "# print(f\"The validation set has {len(os.listdir('dataset/val'))} videos, and each video has {len(glob.glob('dataset/val/video_01000/*.png'))} frames and {len(glob.glob('dataset/val/video_01000/*.npy'))} mask file for all frames\")\n",
        "# print(f\"The unlabeled set has {len(os.listdir('dataset/unlabeled'))} videos, and each video has {len(glob.glob('dataset/unlabeled/video_02000/*.png'))} frames and {len(glob.glob('dataset/unlabeled/video_02000/*.npy'))} mask file for all frames\")"
      ],
      "metadata": {
        "colab": {
          "base_uri": "https://localhost:8080/",
          "height": 280
        },
        "id": "goxWHFgTvufi",
        "outputId": "64d0cc14-e18f-48ca-a2b7-941e5304c047"
      },
      "execution_count": 4,
      "outputs": [
        {
          "output_type": "error",
          "ename": "FileNotFoundError",
          "evalue": "[Errno 2] No such file or directory: 'dataset/train'",
          "traceback": [
            "\u001b[0;31m---------------------------------------------------------------------------\u001b[0m",
            "\u001b[0;31mFileNotFoundError\u001b[0m                         Traceback (most recent call last)",
            "\u001b[0;32m<ipython-input-4-d584611263af>\u001b[0m in \u001b[0;36m<cell line: 1>\u001b[0;34m()\u001b[0m\n\u001b[0;32m----> 1\u001b[0;31m \u001b[0mprint\u001b[0m\u001b[0;34m(\u001b[0m\u001b[0;34mf\"The training set has {len(os.listdir('dataset/train'))} videos, and each video has {len(glob.glob('dataset/train/video_00000/*.png'))} frames and {len(glob.glob('dataset/train/video_00000/*.npy'))} mask file for all frames\"\u001b[0m\u001b[0;34m)\u001b[0m\u001b[0;34m\u001b[0m\u001b[0;34m\u001b[0m\u001b[0m\n\u001b[0m\u001b[1;32m      2\u001b[0m \u001b[0mprint\u001b[0m\u001b[0;34m(\u001b[0m\u001b[0;34mf\"The validation set has {len(os.listdir('dataset/val'))} videos, and each video has {len(glob.glob('dataset/val/video_01000/*.png'))} frames and {len(glob.glob('dataset/val/video_01000/*.npy'))} mask file for all frames\"\u001b[0m\u001b[0;34m)\u001b[0m\u001b[0;34m\u001b[0m\u001b[0;34m\u001b[0m\u001b[0m\n\u001b[1;32m      3\u001b[0m \u001b[0mprint\u001b[0m\u001b[0;34m(\u001b[0m\u001b[0;34mf\"The unlabeled set has {len(os.listdir('dataset/unlabeled'))} videos, and each video has {len(glob.glob('dataset/unlabeled/video_02000/*.png'))} frames and {len(glob.glob('dataset/unlabeled/video_02000/*.npy'))} mask file for all frames\"\u001b[0m\u001b[0;34m)\u001b[0m\u001b[0;34m\u001b[0m\u001b[0;34m\u001b[0m\u001b[0m\n",
            "\u001b[0;31mFileNotFoundError\u001b[0m: [Errno 2] No such file or directory: 'dataset/train'"
          ]
        }
      ]
    },
    {
      "cell_type": "code",
      "source": [
        "# mask = np.load('dataset/train/video_00000/mask.npy')\n",
        "# print(f\"The mask file has the shape {mask.shape}.\")\n",
        "# img = Image.open('dataset/train/video_00000/image_0.png')\n",
        "# data = np.asarray(img, dtype=\"int32\")\n",
        "# print(f\"Each image has the shape {data.shape}\")"
      ],
      "metadata": {
        "colab": {
          "base_uri": "https://localhost:8080/"
        },
        "id": "zCEYQfJXvw6x",
        "outputId": "9d1a6bdc-cb0f-403f-9f21-e571e7e42e50"
      },
      "execution_count": 15,
      "outputs": [
        {
          "output_type": "stream",
          "name": "stdout",
          "text": [
            "drive  sample_data\n"
          ]
        }
      ]
    },
    {
      "cell_type": "code",
      "source": [
        "mask = np.load('drive/MyDrive/video_00000/mask.npy')\n",
        "print(f\"The mask file has the shape {mask.shape}.\")\n",
        "img = Image.open('drive/MyDrive/video_00000/image_0.png')\n",
        "data = np.asarray(img, dtype=\"int32\")\n",
        "print(f\"Each image has the shape {data.shape}\")"
      ],
      "metadata": {
        "colab": {
          "base_uri": "https://localhost:8080/"
        },
        "id": "Quxu8A2NIr4I",
        "outputId": "e1645939-6f9c-41d7-ea75-6c7d1c97de0b"
      },
      "execution_count": 6,
      "outputs": [
        {
          "output_type": "stream",
          "name": "stdout",
          "text": [
            "The mask file has the shape (22, 160, 240).\n",
            "Each image has the shape (160, 240, 3)\n"
          ]
        }
      ]
    },
    {
      "cell_type": "code",
      "source": [
        "# print(\"Let's visualize them:\")\n",
        "\n",
        "# def get_a_random_image(dir=\"dataset/train\"):\n",
        "#     all_videos = os.listdir(dir)\n",
        "#     picked_video = random.choice(all_videos)\n",
        "#     all_images = os.listdir(os.path.join(dir, picked_video))\n",
        "#     picked_image = random.choice(all_images)\n",
        "#     picked_image_idx = int(picked_image[len(\"image_\"):-len(\".png\")])\n",
        "\n",
        "#     img = Image.open(os.path.join(dir, picked_video, picked_image))\n",
        "#     data = np.asarray(img, dtype=\"int32\")\n",
        "\n",
        "\n",
        "#     mask = np.load(os.path.join(dir, picked_video, \"mask.npy\"))\n",
        "\n",
        "#     return data, mask[picked_image_idx]"
      ],
      "metadata": {
        "id": "DG8Ia8NDvyiv"
      },
      "execution_count": null,
      "outputs": []
    },
    {
      "cell_type": "code",
      "source": [
        "print(\"Let's visualize them:\")\n",
        "\n",
        "def get_a_random_image(dir=\"drive/MyDrive\"):\n",
        "    all_videos = ['video_00000', 'video_00001', 'video_00002']\n",
        "    picked_video = random.choice(all_videos)\n",
        "    all_images = os.listdir(os.path.join(dir, picked_video))\n",
        "    picked_image = random.choice(all_images)\n",
        "    picked_image_idx = int(picked_image[len(\"image_\"):-len(\".png\")])\n",
        "\n",
        "    img = Image.open(os.path.join(dir, picked_video, picked_image))\n",
        "    data = np.asarray(img, dtype=\"int32\")\n",
        "\n",
        "    mask = np.load(os.path.join(dir, picked_video, \"mask.npy\"))\n",
        "\n",
        "    return data, mask[picked_image_idx]"
      ],
      "metadata": {
        "colab": {
          "base_uri": "https://localhost:8080/"
        },
        "id": "aJeaxAVsIGIN",
        "outputId": "a3c4e36f-3a29-4f4b-b8c6-4581254caaeb"
      },
      "execution_count": 7,
      "outputs": [
        {
          "output_type": "stream",
          "name": "stdout",
          "text": [
            "Let's visualize them:\n"
          ]
        }
      ]
    },
    {
      "cell_type": "code",
      "source": [
        "data, mask = get_a_random_image()\n",
        "plt.figure(figsize=(10, 5))\n",
        "\n",
        "plt.subplot(1, 2, 1)  # 1 row, 2 columns, 1st subplot\n",
        "plt.imshow(data)\n",
        "plt.axis('off')\n",
        "\n",
        "# Plot the second image\n",
        "plt.subplot(1, 2, 2)  # 1 row, 2 columns, 2nd subplot\n",
        "plt.imshow(mask)\n",
        "plt.axis('off')"
      ],
      "metadata": {
        "colab": {
          "base_uri": "https://localhost:8080/",
          "height": 288
        },
        "id": "E6ImpK_Cv0Vg",
        "outputId": "e45cef29-3838-4c04-aa87-976b95ce9946"
      },
      "execution_count": 27,
      "outputs": [
        {
          "output_type": "execute_result",
          "data": {
            "text/plain": [
              "(-0.5, 239.5, 159.5, -0.5)"
            ]
          },
          "metadata": {},
          "execution_count": 27
        },
        {
          "output_type": "display_data",
          "data": {
            "text/plain": [
              "<Figure size 1000x500 with 2 Axes>"
            ],
            "image/png": "[encoded data removed]"
          },
          "metadata": {}
        }
      ]
    },
    {
      "cell_type": "markdown",
      "source": [
        "#Building a Model\n",
        "\n"
      ],
      "metadata": {
        "id": "24kYQuX6JctW"
      }
    },
    {
      "cell_type": "markdown",
      "source": [
        "#Slot Attention\n",
        "\n",
        "to do:\n",
        "1. test this code and make sure it runs on a small subset of data\n",
        "2. inference - just return masks instead of recon_combined, recons, masks, slots\n",
        "3. believe this is just for object discovery, not sure we'll get the different colors with this alone."
      ],
      "metadata": {
        "id": "9ElQXapbIYBd"
      }
    },
    {
      "cell_type": "code",
      "source": [
        "class SlotAttentionAutoEncoder(nn.Module):\n",
        "\n",
        "      def __init__(self, resolution, num_slots, num_iterations, batch_size):\n",
        "        \"\"\"Builds the Slot Attention-based auto-encoder.\n",
        "\n",
        "        Args:\n",
        "          resolution: Tuple of integers specifying width and height of input image.\n",
        "          num_slots: Number of slots in Slot Attention.\n",
        "          num_iterations: Number of iterations in Slot Attention.\n",
        "        \"\"\"\n",
        "        super().__init__()\n",
        "        self.resolution = resolution\n",
        "        self.num_slots = num_slots\n",
        "        self.num_iterations = num_iterations\n",
        "        self.batch_size = batch_size\n",
        "\n",
        "        self.encoder_cnn = nn.Sequential(\n",
        "                nn.Conv2d(3, 64, kernel_size=5),\n",
        "                nn.ReLU(),\n",
        "                nn.Conv2d(64, 64, kernel_size=5),\n",
        "                nn.ReLU(),\n",
        "                nn.Conv2d(64, 64, kernel_size=5),\n",
        "                nn.ReLU(),\n",
        "                nn.Conv2d(64, 64, kernel_size=5),\n",
        "                nn.ReLU(),\n",
        "            )\n",
        "\n",
        "        self.decoder_initial_size = (8, 8)\n",
        "        self.decoder_cnn = nn.Sequential(\n",
        "                nn.LazyConvTranspose2d(64, kernel_size=5, stride = (2,2)),\n",
        "                nn.ReLU(),\n",
        "                nn.ConvTranspose2d(64, 64, kernel_size=5, stride = (1,1)),\n",
        "                nn.ReLU(),\n",
        "                # nn.ConvTranspose2d(64, 64, kernel_size=5, stride = (1, 1)),\n",
        "                # nn.ReLU(),\n",
        "                nn.ConvTranspose2d(64, 64, kernel_size=5, stride = (1, 1)),\n",
        "                nn.ReLU(),\n",
        "                nn.ConvTranspose2d(64, 64, kernel_size=5, stride = (1, 1)),\n",
        "                nn.ReLU(),\n",
        "                nn.ConvTranspose2d(64, 4, kernel_size=3, stride = (1, 1))\n",
        "            )\n",
        "\n",
        "        self.encoder_pos = SoftPositionEmbed(224, self.resolution) #224 rather than 64 due to size differences\n",
        "        self.decoder_pos = SoftPositionEmbed(64, self.decoder_initial_size)\n",
        "\n",
        "        self.layer_norm = nn.LayerNorm((self.batch_size, 9216, 224)) #check if this should be different..\n",
        "        self.mlp = nn.Sequential(\n",
        "            nn.LazyLinear(64),\n",
        "            nn.ReLU(),\n",
        "            nn.LazyLinear(64))\n",
        "\n",
        "        self.slot_attention = SlotAttention(\n",
        "            num_iterations=self.num_iterations, #3\n",
        "            num_slots=self.num_slots, #7\n",
        "            slot_size=64,\n",
        "            mlp_hidden_size=128)\n",
        "\n",
        "      def forward(self,image):\n",
        "          # `image` has shape: [batch_size, 160, 240, 3].\n",
        "\n",
        "          # Convolutional encoder with position embedding.\n",
        "          x = image.view(image.size()[0], image.size()[-1], image.size()[1], image.size()[2])\n",
        "          x = self.encoder_cnn(x)  # CNN Backbone\n",
        "          x = self.encoder_pos(x)  # Position embedding\n",
        "          x = x.view(-1, x.size()[1] * x.size()[2], x.size()[-1]) # Flatten spatial dimensions (treat image as set).\n",
        "          x = self.mlp(self.layer_norm(x))  # Feedforward network on set.\n",
        "          # `x` has shape: [batch_size, width*height, input_size].\n",
        "\n",
        "          # Slot Attention module.\n",
        "          slots = self.slot_attention(x)\n",
        "          # `slots` has shape: [batch_size, num_slots, slot_size].\n",
        "\n",
        "          # Spatial broadcast decoder.\n",
        "          x = self.spatial_broadcast(slots, (8, 8)) # self.decoder_initial_size I suppose just set this to whatever the slots shape is?\n",
        "          # `x` has shape: [batch_size*num_slots, width_init, height_init, slot_size].\n",
        "          x = self.decoder_pos(x)\n",
        "          x = self.decoder_cnn(x)\n",
        "          # `x` has shape: [batch_size*num_slots, width, height, num_channels+1].\n",
        "\n",
        "          # Undo combination of slot and batch dimension; split alpha masks.\n",
        "          recons, masks = self.unstack_and_split(x, batch_size=image.shape[0])\n",
        "          # `recons` has shape: [batch_size, num_slots, width, height, num_channels].\n",
        "          # `masks` has shape: [batch_size, num_slots, width, height, 1].\n",
        "\n",
        "          # Normalize alpha masks over slots.\n",
        "          masks = F.softmax(masks, dim=1)\n",
        "          recon_combined = torch.sum(recons * masks, dim=1)  # Recombine image. #check that this is the right fn. i thought we needed sum? check the alg\n",
        "          # `recon_combined` has shape: [batch_size, width, height, num_channels].\n",
        "\n",
        "          return recon_combined, recons, masks, slots\n",
        "\n",
        "      def spatial_broadcast(self, slots, resolution):\n",
        "          \"\"\"Broadcast slot features to a 2D grid and collapse slot dimension.\"\"\"\n",
        "          # `slots` has shape: [batch_size, num_slots, slot_size].\n",
        "          slots = slots.reshape(-1, slots.size()[-1])[:, None, None, :]\n",
        "          grid = torch.tile(slots, [1, resolution[0], resolution[1], 1])\n",
        "          # `grid` has shape: [batch_size*num_slots, width, height, slot_size].\n",
        "          return grid\n",
        "\n",
        "      def unstack_and_split(self, x, batch_size, num_channels=3):\n",
        "        \"\"\"Unstack batch dimension and split into channels and alpha mask.\"\"\"\n",
        "        print(x.size())\n",
        "        unstacked = x.view(batch_size, -1, x.size()[3], x.size()[1])\n",
        "        print(unstacked.size())\n",
        "        channels, masks = torch.split(unstacked, [num_channels, 1], dim=-1)\n",
        "        return channels, masks\n",
        "\n"
      ],
      "metadata": {
        "id": "m3bmlZ66KhYa"
      },
      "execution_count": 34,
      "outputs": []
    },
    {
      "cell_type": "code",
      "source": [
        "class SoftPositionEmbed(nn.Module):\n",
        "  \"\"\"Adds soft positional embedding with learnable projection.\"\"\"\n",
        "\n",
        "  def __init__(self, hidden_size, resolution):\n",
        "    \"\"\"Builds the soft position embedding layer.\n",
        "\n",
        "    Args:\n",
        "      hidden_size: Size of input feature dimension.\n",
        "      resolution: Tuple of integers specifying width and height of grid.\n",
        "    \"\"\"\n",
        "    super().__init__()\n",
        "    self.linear = nn.LazyLinear(hidden_size, bias=True)\n",
        "    self.grid = self.build_grid(resolution)\n",
        "\n",
        "  def forward(self, inputs):\n",
        "    return inputs + self.linear(torch.Tensor(self.grid))\n",
        "\n",
        "  def build_grid(self, resolution):\n",
        "    ranges = [np.linspace(0., 1., num=res) for res in resolution]\n",
        "    grid = np.meshgrid(*ranges, sparse=False, indexing=\"ij\")\n",
        "    grid = np.stack(grid, axis=-1)\n",
        "    grid = np.reshape(grid, [resolution[0], resolution[1], -1])\n",
        "    grid = np.expand_dims(grid, axis=0)\n",
        "    grid = grid.astype(np.float32)\n",
        "    return np.concatenate([grid, 1.0 - grid], axis=-1)\n"
      ],
      "metadata": {
        "id": "9SZH-5QnIMp4"
      },
      "execution_count": 9,
      "outputs": []
    },
    {
      "cell_type": "code",
      "source": [
        "class SlotAttention(nn.Module):\n",
        "    def __init__(self, num_iterations, num_slots, slot_size, mlp_hidden_size, epsilon=1e-8):\n",
        "        super().__init__()\n",
        "        self.num_iterations = num_iterations\n",
        "        self.num_slots = num_slots\n",
        "        self.slot_size = slot_size\n",
        "        self.mlp_hidden_size = mlp_hidden_size\n",
        "        self.epsilon = epsilon\n",
        "\n",
        "        # Linear maps for the attention module.\n",
        "        self.W_q = nn.LazyLinear(self.slot_size, bias=False)\n",
        "        self.W_k = nn.LazyLinear(self.slot_size, bias=False)\n",
        "        self.W_v = nn.LazyLinear(self.slot_size, bias=False)\n",
        "\n",
        "        # Normalization - moved directly to foward so that we could get the right sizes\n",
        "        self.norm_inputs = nn.LayerNorm((2, 9216, 64))\n",
        "        # self.norm_slots = nn.LayerNorm()\n",
        "        # self.norm_mlp = nn.LayerNorm()\n",
        "\n",
        "        # self.slots_mu = torch.nn.init.xavier_uniform(self.W_q.weight)\n",
        "        # self.slots_log_sigma = torch.nn.init.xavier_uniform(self.W_q.weight)\n",
        "\n",
        "        # Parameters for Gaussian init (shared by all slots) - this part might be off.. what's torch equivalent of self.add_weight\n",
        "        # self.slots_mu = self.add_weight(\n",
        "        #     initializer=\"glorot_uniform\",\n",
        "        #     shape=[1, 1, self.slot_size],\n",
        "        #     dtype=float,\n",
        "        #     name=\"slots_mu\")\n",
        "        # self.slots_log_sigma = self.add_weight(\n",
        "        #     initializer=\"glorot_uniform\",\n",
        "        #     shape=[1, 1, self.slot_size],\n",
        "        #     dtype=float,\n",
        "        #     name=\"slots_log_sigma\")\n",
        "\n",
        "        # Slot update functions.\n",
        "        #what should the input size be?\n",
        "        # self.gru = nn.GRUCell(self.num_slots, self.slot_size) gru cell doesnt work with 3d?\n",
        "        self.gru = nn.GRU(64, 64, num_layers=7, batch_first=True)\n",
        "        self.mlp = nn.Sequential(\n",
        "            nn.LazyLinear(self.mlp_hidden_size),\n",
        "            nn.ReLU(),\n",
        "            nn.LazyLinear(self.slot_size)\n",
        "            )\n",
        "\n",
        "    def forward(self, inputs):\n",
        "      # `inputs` has shape [batch_size, num_inputs, inputs_size].\n",
        "      inputs = self.norm_inputs(inputs)  # Apply layer norm to the input.\n",
        "      k = self.W_k(inputs)  # Shape: [batch_size, num_inputs, slot_size].\n",
        "      v = self.W_v(inputs)  # Shape: [batch_size, num_inputs, slot_size].\n",
        "\n",
        "      # Initialize the slots. Shape: [batch_size, num_slots, slot_size].\n",
        "      # revisit this!!\n",
        "      # slots = self.slots_mu + torch.exp(self.slots_log_sigma) * torch.normal(\n",
        "      #     mean=torch.zeros([inputs.size()[0], self.num_slots, self.slot_size]), std=torch.ones([inputs.size()[0], self.num_slots, self.slot_size]))\n",
        "      slots = torch.exp(torch.tensor([1])) * torch.normal(\n",
        "          mean=torch.zeros([inputs.size()[0], self.num_slots, self.slot_size]), std=torch.ones([inputs.size()[0], self.num_slots, self.slot_size]))\n",
        "      self.norm_slots = nn.LayerNorm(slots.size())\n",
        "\n",
        "      # Multiple rounds of attention.\n",
        "      for _ in range(self.num_iterations):\n",
        "        slots_prev = slots\n",
        "        slots = self.norm_slots(slots)\n",
        "\n",
        "        # Attention.\n",
        "        q = self.W_q(slots)  # Shape: [batch_size, num_slots, slot_size].\n",
        "        q *= self.slot_size ** -0.5  # Normalization.\n",
        "\n",
        "        updates = self.scaled_dot_product_attention(q, k, v)\n",
        "        # `updates` has shape: [batch_size, num_slots, slot_size].\n",
        "        # Slot update.\n",
        "        slots_prev = slots_prev.reshape(slots_prev.size()[1], slots_prev.size()[0], slots_prev.size()[2])\n",
        "        slots, _ = self.gru(updates, slots_prev)\n",
        "        self.norm_mlp = nn.LayerNorm(slots.size())\n",
        "        slots += self.mlp(self.norm_mlp(slots))\n",
        "\n",
        "      return slots\n",
        "\n",
        "    def scaled_dot_product_attention(self, Q, K, V):\n",
        "        batch_size = Q.size(0)\n",
        "        k_length = K.size(-2)\n",
        "\n",
        "        scores = torch.matmul(Q, K.transpose(1, 2))  # (bs, n_heads, q_length, k_length)\n",
        "        print(scores.size())\n",
        "        A = F.softmax(scores, dim=-1)            # (bs, n_heads, q_length, k_length)\n",
        "        A += self.epsilon\n",
        "        A /= torch.sum(A, dim=-2, keepdim=True)\n",
        "\n",
        "        # Get the weighted average of the values\n",
        "        H = torch.matmul(A, V)                      # (bs, n_heads, q_length, dim_per_head)\n",
        "\n",
        "        return H\n"
      ],
      "metadata": {
        "id": "NXWRNjliPFu4"
      },
      "execution_count": 10,
      "outputs": []
    },
    {
      "cell_type": "code",
      "source": [
        "#train step\n",
        "\n",
        "batch_size = 64\n",
        "num_slots = 7\n",
        "num_iterations = 3\n",
        "learning_rate = 0.0004\n",
        "num_train_steps = 500000\n",
        "warmup_steps = 10000\n",
        "decay_rate = 0.5\n",
        "decay_steps = 100000\n",
        "\n",
        "def l2_loss(prediction, target):\n",
        "    # return tf.reduce_mean(tf.math.squared_difference(prediction, target))\n",
        "    loss = nn.MSELoss(reduction='mean')\n",
        "    return loss(prediction, target)\n",
        "\n",
        "def train_step(batch, model, optimizer):\n",
        "    \"\"\"Perform a single training step.\"\"\"\n",
        "\n",
        "    #zero the gradient\n",
        "    optimizer.zero_grad()\n",
        "    # Get the prediction of the models and compute the loss.\n",
        "    preds = model(batch)\n",
        "    recon_combined, recons, masks, slots = preds\n",
        "\n",
        "    #!! do we want this loss between reconstructed image or the masks? also feed in masks if latter\n",
        "    loss_value = l2_loss(batch, recon_combined)\n",
        "    #backprop and step\n",
        "    loss_value.backward()\n",
        "    optimizer.step()\n",
        "    #return loss\n",
        "\n",
        "    return loss_value\n",
        "\n",
        "\n",
        "def main(batch_size, num_slots, num_iterations, base_learning_rate, num_train_steps, warmup_steps, decay_rate, decay_steps):\n",
        "\n",
        "      resolution = (64, 144)\n",
        "\n",
        "      # Build dataset iterators, optimizers and model.\n",
        "      # data_iterator = data_utils.build_clevr_iterator(\n",
        "      #     batch_size, split=\"train\", resolution=resolution, shuffle=True,\n",
        "      #     max_n_objects=6, get_properties=False, apply_crop=True)\n",
        "\n",
        "      data_iterator = torch.utils.data.DataLoader(trainset, batch_size=batch_size, shuffle=True)\n",
        "\n",
        "      model = SlotAttentionAutoEncoder(resolution, num_slots, num_iterations, batch_size)\n",
        "\n",
        "      optimizer = torch.optim.Adam(model.parameters(), lr=base_learning_rate)\n",
        "\n",
        "      # Prepare checkpoint manager.\n",
        "      global_step = torch.tensor(0)\n",
        "      # ckpt = tf.train.Checkpoint(\n",
        "      #     network=model, optimizer=optimizer, global_step=global_step)\n",
        "      # ckpt_manager = tf.train.CheckpointManager(\n",
        "      #     checkpoint=ckpt, directory=FLAGS.model_dir, max_to_keep=5)\n",
        "      # ckpt.restore(ckpt_manager.latest_checkpoint)\n",
        "      # if ckpt_manager.latest_checkpoint:\n",
        "      #   logging.info(\"Restored from %s\", ckpt_manager.latest_checkpoint)\n",
        "      # else:\n",
        "      #   logging.info(\"Initializing from scratch.\")\n",
        "\n",
        "      start = time.time()\n",
        "\n",
        "      for i in range(num_train_steps):\n",
        "          for j, data in enumerate(data_iterator, 0):\n",
        "              batch, masks = data\n",
        "              batch, masks = batch.float(), masks.float()\n",
        "              #don't worry about warm up at the moment?\n",
        "              # Learning rate warm-up.\n",
        "              # if global_step < warmup_steps:\n",
        "              #   learning_rate = base_learning_rate * tf.cast(\n",
        "              #       global_step, tf.float32) / tf.cast(warmup_steps, tf.float32)\n",
        "              # else:\n",
        "\n",
        "              learning_rate = base_learning_rate\n",
        "              # learning_rate = learning_rate * (decay_rate ** (\n",
        "              #     tf.cast(global_step, tf.float32) / tf.cast(decay_steps, tf.float32)))\n",
        "              optimizer.lr = learning_rate#.numpy()\n",
        "\n",
        "              loss_value = train_step(batch, model, optimizer)\n",
        "\n",
        "              # Update the global step. We update it before logging the loss and saving\n",
        "              # the model so that the last checkpoint is saved at the last iteration.\n",
        "              global_step.assign_add(1)\n",
        "\n",
        "              # Log the training loss.\n",
        "              if not global_step % 100:\n",
        "                print(\"Step: %s, Loss: %.6f, Time: %s\",\n",
        "                            global_step.numpy(), loss_value,\n",
        "                            datetime.timedelta(seconds=time.time() - start))\n",
        "\n",
        "              # # We save the checkpoints every 1000 iterations.\n",
        "              # if not global_step  % 1000:\n",
        "              #   # Save the checkpoint of the model.\n",
        "              #   saved_ckpt = ckpt_manager.save()\n",
        "              #   logging.info(\"Saved checkpoint: %s\", saved_ckpt)\n",
        "\n"
      ],
      "metadata": {
        "id": "7K8LfU0gJM6o"
      },
      "execution_count": 11,
      "outputs": []
    },
    {
      "cell_type": "code",
      "source": [
        "def get_random_images(dir=\"drive/MyDrive\"):\n",
        "    all_videos = ['video_00000', 'video_00001', 'video_00002']\n",
        "    picked_video = random.choice(all_videos)\n",
        "    all_images = os.listdir(os.path.join(dir, picked_video))\n",
        "    data = []\n",
        "\n",
        "    for i in range(4):\n",
        "\n",
        "        picked_image = random.choice(all_images)\n",
        "        picked_image_idx = int(picked_image[len(\"image_\"):-len(\".png\")])\n",
        "        img = Image.open(os.path.join(dir, picked_video, picked_image))\n",
        "        img_data = np.asarray(img, dtype=\"int32\")\n",
        "        mask = np.load(os.path.join(dir, picked_video, \"mask.npy\"))[picked_image_idx]\n",
        "\n",
        "        data.append((img_data, mask))\n",
        "\n",
        "    return data\n"
      ],
      "metadata": {
        "id": "3H5xCWVRK1K5"
      },
      "execution_count": 12,
      "outputs": []
    },
    {
      "cell_type": "code",
      "source": [
        "trainset = get_random_images()\n",
        "#set equal to just one or two videos for debugging\n",
        "\n",
        "#train the model\n",
        "main(batch_size=2, num_slots=7, num_iterations=3, base_learning_rate=learning_rate, num_train_steps=num_train_steps, warmup_steps=warmup_steps, decay_rate=decay_rate, decay_steps=decay_steps)\n"
      ],
      "metadata": {
        "id": "siR0MsPOXNMu",
        "colab": {
          "base_uri": "https://localhost:8080/",
          "height": 480
        },
        "outputId": "1a58e553-7d8c-4b54-b09b-9fab5478c20b"
      },
      "execution_count": 35,
      "outputs": [
        {
          "output_type": "stream",
          "name": "stdout",
          "text": [
            "torch.Size([2, 7, 9216])\n",
            "torch.Size([2, 7, 9216])\n",
            "torch.Size([2, 7, 9216])\n",
            "torch.Size([14, 4, 33, 145])\n",
            "torch.Size([2, 1015, 33, 4])\n"
          ]
        },
        {
          "output_type": "stream",
          "name": "stderr",
          "text": [
            "/usr/local/lib/python3.10/dist-packages/torch/nn/modules/loss.py:535: UserWarning: Using a target size (torch.Size([2, 33, 3])) that is different to the input size (torch.Size([2, 160, 240, 3])). This will likely lead to incorrect results due to broadcasting. Please ensure they have the same size.\n",
            "  return F.mse_loss(input, target, reduction=self.reduction)\n"
          ]
        },
        {
          "output_type": "error",
          "ename": "RuntimeError",
          "evalue": "The size of tensor a (240) must match the size of tensor b (33) at non-singleton dimension 2",
          "traceback": [
            "\u001b[0;31m---------------------------------------------------------------------------\u001b[0m",
            "\u001b[0;31mRuntimeError\u001b[0m                              Traceback (most recent call last)",
            "\u001b[0;32m<ipython-input-35-5b8494b1e6f1>\u001b[0m in \u001b[0;36m<cell line: 5>\u001b[0;34m()\u001b[0m\n\u001b[1;32m      3\u001b[0m \u001b[0;34m\u001b[0m\u001b[0m\n\u001b[1;32m      4\u001b[0m \u001b[0;31m#train the model\u001b[0m\u001b[0;34m\u001b[0m\u001b[0;34m\u001b[0m\u001b[0m\n\u001b[0;32m----> 5\u001b[0;31m \u001b[0mmain\u001b[0m\u001b[0;34m(\u001b[0m\u001b[0mbatch_size\u001b[0m\u001b[0;34m=\u001b[0m\u001b[0;36m2\u001b[0m\u001b[0;34m,\u001b[0m \u001b[0mnum_slots\u001b[0m\u001b[0;34m=\u001b[0m\u001b[0;36m7\u001b[0m\u001b[0;34m,\u001b[0m \u001b[0mnum_iterations\u001b[0m\u001b[0;34m=\u001b[0m\u001b[0;36m3\u001b[0m\u001b[0;34m,\u001b[0m \u001b[0mbase_learning_rate\u001b[0m\u001b[0;34m=\u001b[0m\u001b[0mlearning_rate\u001b[0m\u001b[0;34m,\u001b[0m \u001b[0mnum_train_steps\u001b[0m\u001b[0;34m=\u001b[0m\u001b[0mnum_train_steps\u001b[0m\u001b[0;34m,\u001b[0m \u001b[0mwarmup_steps\u001b[0m\u001b[0;34m=\u001b[0m\u001b[0mwarmup_steps\u001b[0m\u001b[0;34m,\u001b[0m \u001b[0mdecay_rate\u001b[0m\u001b[0;34m=\u001b[0m\u001b[0mdecay_rate\u001b[0m\u001b[0;34m,\u001b[0m \u001b[0mdecay_steps\u001b[0m\u001b[0;34m=\u001b[0m\u001b[0mdecay_steps\u001b[0m\u001b[0;34m)\u001b[0m\u001b[0;34m\u001b[0m\u001b[0;34m\u001b[0m\u001b[0m\n\u001b[0m",
            "\u001b[0;32m<ipython-input-11-1541ecb44dd3>\u001b[0m in \u001b[0;36mmain\u001b[0;34m(batch_size, num_slots, num_iterations, base_learning_rate, num_train_steps, warmup_steps, decay_rate, decay_steps)\u001b[0m\n\u001b[1;32m     79\u001b[0m               \u001b[0moptimizer\u001b[0m\u001b[0;34m.\u001b[0m\u001b[0mlr\u001b[0m \u001b[0;34m=\u001b[0m \u001b[0mlearning_rate\u001b[0m\u001b[0;31m#.numpy()\u001b[0m\u001b[0;34m\u001b[0m\u001b[0;34m\u001b[0m\u001b[0m\n\u001b[1;32m     80\u001b[0m \u001b[0;34m\u001b[0m\u001b[0m\n\u001b[0;32m---> 81\u001b[0;31m               \u001b[0mloss_value\u001b[0m \u001b[0;34m=\u001b[0m \u001b[0mtrain_step\u001b[0m\u001b[0;34m(\u001b[0m\u001b[0mbatch\u001b[0m\u001b[0;34m,\u001b[0m \u001b[0mmodel\u001b[0m\u001b[0;34m,\u001b[0m \u001b[0moptimizer\u001b[0m\u001b[0;34m)\u001b[0m\u001b[0;34m\u001b[0m\u001b[0;34m\u001b[0m\u001b[0m\n\u001b[0m\u001b[1;32m     82\u001b[0m \u001b[0;34m\u001b[0m\u001b[0m\n\u001b[1;32m     83\u001b[0m               \u001b[0;31m# Update the global step. We update it before logging the loss and saving\u001b[0m\u001b[0;34m\u001b[0m\u001b[0;34m\u001b[0m\u001b[0m\n",
            "\u001b[0;32m<ipython-input-11-1541ecb44dd3>\u001b[0m in \u001b[0;36mtrain_step\u001b[0;34m(batch, model, optimizer)\u001b[0m\n\u001b[1;32m     25\u001b[0m \u001b[0;34m\u001b[0m\u001b[0m\n\u001b[1;32m     26\u001b[0m     \u001b[0;31m#!! do we want this loss between reconstructed image or the masks? also feed in masks if latter\u001b[0m\u001b[0;34m\u001b[0m\u001b[0;34m\u001b[0m\u001b[0m\n\u001b[0;32m---> 27\u001b[0;31m     \u001b[0mloss_value\u001b[0m \u001b[0;34m=\u001b[0m \u001b[0ml2_loss\u001b[0m\u001b[0;34m(\u001b[0m\u001b[0mbatch\u001b[0m\u001b[0;34m,\u001b[0m \u001b[0mrecon_combined\u001b[0m\u001b[0;34m)\u001b[0m\u001b[0;34m\u001b[0m\u001b[0;34m\u001b[0m\u001b[0m\n\u001b[0m\u001b[1;32m     28\u001b[0m     \u001b[0;31m#backprop and step\u001b[0m\u001b[0;34m\u001b[0m\u001b[0;34m\u001b[0m\u001b[0m\n\u001b[1;32m     29\u001b[0m     \u001b[0mloss_value\u001b[0m\u001b[0;34m.\u001b[0m\u001b[0mbackward\u001b[0m\u001b[0;34m(\u001b[0m\u001b[0;34m)\u001b[0m\u001b[0;34m\u001b[0m\u001b[0;34m\u001b[0m\u001b[0m\n",
            "\u001b[0;32m<ipython-input-11-1541ecb44dd3>\u001b[0m in \u001b[0;36ml2_loss\u001b[0;34m(prediction, target)\u001b[0m\n\u001b[1;32m     13\u001b[0m     \u001b[0;31m# return tf.reduce_mean(tf.math.squared_difference(prediction, target))\u001b[0m\u001b[0;34m\u001b[0m\u001b[0;34m\u001b[0m\u001b[0m\n\u001b[1;32m     14\u001b[0m     \u001b[0mloss\u001b[0m \u001b[0;34m=\u001b[0m \u001b[0mnn\u001b[0m\u001b[0;34m.\u001b[0m\u001b[0mMSELoss\u001b[0m\u001b[0;34m(\u001b[0m\u001b[0mreduction\u001b[0m\u001b[0;34m=\u001b[0m\u001b[0;34m'mean'\u001b[0m\u001b[0;34m)\u001b[0m\u001b[0;34m\u001b[0m\u001b[0;34m\u001b[0m\u001b[0m\n\u001b[0;32m---> 15\u001b[0;31m     \u001b[0;32mreturn\u001b[0m \u001b[0mloss\u001b[0m\u001b[0;34m(\u001b[0m\u001b[0mprediction\u001b[0m\u001b[0;34m,\u001b[0m \u001b[0mtarget\u001b[0m\u001b[0;34m)\u001b[0m\u001b[0;34m\u001b[0m\u001b[0;34m\u001b[0m\u001b[0m\n\u001b[0m\u001b[1;32m     16\u001b[0m \u001b[0;34m\u001b[0m\u001b[0m\n\u001b[1;32m     17\u001b[0m \u001b[0;32mdef\u001b[0m \u001b[0mtrain_step\u001b[0m\u001b[0;34m(\u001b[0m\u001b[0mbatch\u001b[0m\u001b[0;34m,\u001b[0m \u001b[0mmodel\u001b[0m\u001b[0;34m,\u001b[0m \u001b[0moptimizer\u001b[0m\u001b[0;34m)\u001b[0m\u001b[0;34m:\u001b[0m\u001b[0;34m\u001b[0m\u001b[0;34m\u001b[0m\u001b[0m\n",
            "\u001b[0;32m/usr/local/lib/python3.10/dist-packages/torch/nn/modules/module.py\u001b[0m in \u001b[0;36m_wrapped_call_impl\u001b[0;34m(self, *args, **kwargs)\u001b[0m\n\u001b[1;32m   1509\u001b[0m             \u001b[0;32mreturn\u001b[0m \u001b[0mself\u001b[0m\u001b[0;34m.\u001b[0m\u001b[0m_compiled_call_impl\u001b[0m\u001b[0;34m(\u001b[0m\u001b[0;34m*\u001b[0m\u001b[0margs\u001b[0m\u001b[0;34m,\u001b[0m \u001b[0;34m**\u001b[0m\u001b[0mkwargs\u001b[0m\u001b[0;34m)\u001b[0m  \u001b[0;31m# type: ignore[misc]\u001b[0m\u001b[0;34m\u001b[0m\u001b[0;34m\u001b[0m\u001b[0m\n\u001b[1;32m   1510\u001b[0m         \u001b[0;32melse\u001b[0m\u001b[0;34m:\u001b[0m\u001b[0;34m\u001b[0m\u001b[0;34m\u001b[0m\u001b[0m\n\u001b[0;32m-> 1511\u001b[0;31m             \u001b[0;32mreturn\u001b[0m \u001b[0mself\u001b[0m\u001b[0;34m.\u001b[0m\u001b[0m_call_impl\u001b[0m\u001b[0;34m(\u001b[0m\u001b[0;34m*\u001b[0m\u001b[0margs\u001b[0m\u001b[0;34m,\u001b[0m \u001b[0;34m**\u001b[0m\u001b[0mkwargs\u001b[0m\u001b[0;34m)\u001b[0m\u001b[0;34m\u001b[0m\u001b[0;34m\u001b[0m\u001b[0m\n\u001b[0m\u001b[1;32m   1512\u001b[0m \u001b[0;34m\u001b[0m\u001b[0m\n\u001b[1;32m   1513\u001b[0m     \u001b[0;32mdef\u001b[0m \u001b[0m_call_impl\u001b[0m\u001b[0;34m(\u001b[0m\u001b[0mself\u001b[0m\u001b[0;34m,\u001b[0m \u001b[0;34m*\u001b[0m\u001b[0margs\u001b[0m\u001b[0;34m,\u001b[0m \u001b[0;34m**\u001b[0m\u001b[0mkwargs\u001b[0m\u001b[0;34m)\u001b[0m\u001b[0;34m:\u001b[0m\u001b[0;34m\u001b[0m\u001b[0;34m\u001b[0m\u001b[0m\n",
            "\u001b[0;32m/usr/local/lib/python3.10/dist-packages/torch/nn/modules/module.py\u001b[0m in \u001b[0;36m_call_impl\u001b[0;34m(self, *args, **kwargs)\u001b[0m\n\u001b[1;32m   1518\u001b[0m                 \u001b[0;32mor\u001b[0m \u001b[0m_global_backward_pre_hooks\u001b[0m \u001b[0;32mor\u001b[0m \u001b[0m_global_backward_hooks\u001b[0m\u001b[0;34m\u001b[0m\u001b[0;34m\u001b[0m\u001b[0m\n\u001b[1;32m   1519\u001b[0m                 or _global_forward_hooks or _global_forward_pre_hooks):\n\u001b[0;32m-> 1520\u001b[0;31m             \u001b[0;32mreturn\u001b[0m \u001b[0mforward_call\u001b[0m\u001b[0;34m(\u001b[0m\u001b[0;34m*\u001b[0m\u001b[0margs\u001b[0m\u001b[0;34m,\u001b[0m \u001b[0;34m**\u001b[0m\u001b[0mkwargs\u001b[0m\u001b[0;34m)\u001b[0m\u001b[0;34m\u001b[0m\u001b[0;34m\u001b[0m\u001b[0m\n\u001b[0m\u001b[1;32m   1521\u001b[0m \u001b[0;34m\u001b[0m\u001b[0m\n\u001b[1;32m   1522\u001b[0m         \u001b[0;32mtry\u001b[0m\u001b[0;34m:\u001b[0m\u001b[0;34m\u001b[0m\u001b[0;34m\u001b[0m\u001b[0m\n",
            "\u001b[0;32m/usr/local/lib/python3.10/dist-packages/torch/nn/modules/loss.py\u001b[0m in \u001b[0;36mforward\u001b[0;34m(self, input, target)\u001b[0m\n\u001b[1;32m    533\u001b[0m \u001b[0;34m\u001b[0m\u001b[0m\n\u001b[1;32m    534\u001b[0m     \u001b[0;32mdef\u001b[0m \u001b[0mforward\u001b[0m\u001b[0;34m(\u001b[0m\u001b[0mself\u001b[0m\u001b[0;34m,\u001b[0m \u001b[0minput\u001b[0m\u001b[0;34m:\u001b[0m \u001b[0mTensor\u001b[0m\u001b[0;34m,\u001b[0m \u001b[0mtarget\u001b[0m\u001b[0;34m:\u001b[0m \u001b[0mTensor\u001b[0m\u001b[0;34m)\u001b[0m \u001b[0;34m->\u001b[0m \u001b[0mTensor\u001b[0m\u001b[0;34m:\u001b[0m\u001b[0;34m\u001b[0m\u001b[0;34m\u001b[0m\u001b[0m\n\u001b[0;32m--> 535\u001b[0;31m         \u001b[0;32mreturn\u001b[0m \u001b[0mF\u001b[0m\u001b[0;34m.\u001b[0m\u001b[0mmse_loss\u001b[0m\u001b[0;34m(\u001b[0m\u001b[0minput\u001b[0m\u001b[0;34m,\u001b[0m \u001b[0mtarget\u001b[0m\u001b[0;34m,\u001b[0m \u001b[0mreduction\u001b[0m\u001b[0;34m=\u001b[0m\u001b[0mself\u001b[0m\u001b[0;34m.\u001b[0m\u001b[0mreduction\u001b[0m\u001b[0;34m)\u001b[0m\u001b[0;34m\u001b[0m\u001b[0;34m\u001b[0m\u001b[0m\n\u001b[0m\u001b[1;32m    536\u001b[0m \u001b[0;34m\u001b[0m\u001b[0m\n\u001b[1;32m    537\u001b[0m \u001b[0;34m\u001b[0m\u001b[0m\n",
            "\u001b[0;32m/usr/local/lib/python3.10/dist-packages/torch/nn/functional.py\u001b[0m in \u001b[0;36mmse_loss\u001b[0;34m(input, target, size_average, reduce, reduction)\u001b[0m\n\u001b[1;32m   3336\u001b[0m         \u001b[0mreduction\u001b[0m \u001b[0;34m=\u001b[0m \u001b[0m_Reduction\u001b[0m\u001b[0;34m.\u001b[0m\u001b[0mlegacy_get_string\u001b[0m\u001b[0;34m(\u001b[0m\u001b[0msize_average\u001b[0m\u001b[0;34m,\u001b[0m \u001b[0mreduce\u001b[0m\u001b[0;34m)\u001b[0m\u001b[0;34m\u001b[0m\u001b[0;34m\u001b[0m\u001b[0m\n\u001b[1;32m   3337\u001b[0m \u001b[0;34m\u001b[0m\u001b[0m\n\u001b[0;32m-> 3338\u001b[0;31m     \u001b[0mexpanded_input\u001b[0m\u001b[0;34m,\u001b[0m \u001b[0mexpanded_target\u001b[0m \u001b[0;34m=\u001b[0m \u001b[0mtorch\u001b[0m\u001b[0;34m.\u001b[0m\u001b[0mbroadcast_tensors\u001b[0m\u001b[0;34m(\u001b[0m\u001b[0minput\u001b[0m\u001b[0;34m,\u001b[0m \u001b[0mtarget\u001b[0m\u001b[0;34m)\u001b[0m\u001b[0;34m\u001b[0m\u001b[0;34m\u001b[0m\u001b[0m\n\u001b[0m\u001b[1;32m   3339\u001b[0m     \u001b[0;32mreturn\u001b[0m \u001b[0mtorch\u001b[0m\u001b[0;34m.\u001b[0m\u001b[0m_C\u001b[0m\u001b[0;34m.\u001b[0m\u001b[0m_nn\u001b[0m\u001b[0;34m.\u001b[0m\u001b[0mmse_loss\u001b[0m\u001b[0;34m(\u001b[0m\u001b[0mexpanded_input\u001b[0m\u001b[0;34m,\u001b[0m \u001b[0mexpanded_target\u001b[0m\u001b[0;34m,\u001b[0m \u001b[0m_Reduction\u001b[0m\u001b[0;34m.\u001b[0m\u001b[0mget_enum\u001b[0m\u001b[0;34m(\u001b[0m\u001b[0mreduction\u001b[0m\u001b[0;34m)\u001b[0m\u001b[0;34m)\u001b[0m\u001b[0;34m\u001b[0m\u001b[0;34m\u001b[0m\u001b[0m\n\u001b[1;32m   3340\u001b[0m \u001b[0;34m\u001b[0m\u001b[0m\n",
            "\u001b[0;32m/usr/local/lib/python3.10/dist-packages/torch/functional.py\u001b[0m in \u001b[0;36mbroadcast_tensors\u001b[0;34m(*tensors)\u001b[0m\n\u001b[1;32m     74\u001b[0m     \u001b[0;32mif\u001b[0m \u001b[0mhas_torch_function\u001b[0m\u001b[0;34m(\u001b[0m\u001b[0mtensors\u001b[0m\u001b[0;34m)\u001b[0m\u001b[0;34m:\u001b[0m\u001b[0;34m\u001b[0m\u001b[0;34m\u001b[0m\u001b[0m\n\u001b[1;32m     75\u001b[0m         \u001b[0;32mreturn\u001b[0m \u001b[0mhandle_torch_function\u001b[0m\u001b[0;34m(\u001b[0m\u001b[0mbroadcast_tensors\u001b[0m\u001b[0;34m,\u001b[0m \u001b[0mtensors\u001b[0m\u001b[0;34m,\u001b[0m \u001b[0;34m*\u001b[0m\u001b[0mtensors\u001b[0m\u001b[0;34m)\u001b[0m\u001b[0;34m\u001b[0m\u001b[0;34m\u001b[0m\u001b[0m\n\u001b[0;32m---> 76\u001b[0;31m     \u001b[0;32mreturn\u001b[0m \u001b[0m_VF\u001b[0m\u001b[0;34m.\u001b[0m\u001b[0mbroadcast_tensors\u001b[0m\u001b[0;34m(\u001b[0m\u001b[0mtensors\u001b[0m\u001b[0;34m)\u001b[0m  \u001b[0;31m# type: ignore[attr-defined]\u001b[0m\u001b[0;34m\u001b[0m\u001b[0;34m\u001b[0m\u001b[0m\n\u001b[0m\u001b[1;32m     77\u001b[0m \u001b[0;34m\u001b[0m\u001b[0m\n\u001b[1;32m     78\u001b[0m \u001b[0;34m\u001b[0m\u001b[0m\n",
            "\u001b[0;31mRuntimeError\u001b[0m: The size of tensor a (240) must match the size of tensor b (33) at non-singleton dimension 2"
          ]
        }
      ]
    },
    {
      "cell_type": "code",
      "source": [
        "#inference\n",
        "preds = model(batch[\"image\"], training=False)\n",
        "recon_combined, recons, masks, slots = preds\n",
        "torch.Size([14, 4, 179, 1075])\n",
        "torch.Size([2, 1253, 1075, 4])\n",
        "\n",
        "#we want just masks"
      ],
      "metadata": {
        "id": "otRN4tqlachS"
      },
      "execution_count": null,
      "outputs": []
    },
    {
      "cell_type": "markdown",
      "source": [
        "#RAFT\n",
        "- RAFT breakdown following https://towardsdatascience.com/optical-flow-with-raft-part-1-f984b4a33993\n",
        "- feel free to update/edit as necessary"
      ],
      "metadata": {
        "id": "6r9tQmD9IT8Q"
      }
    },
    {
      "cell_type": "code",
      "source": [
        "# def feature_encoder(img1, img2, D):\n",
        "#     '''CNN consisting of ~6 residual blocks and downsampling\n",
        "#     Operates on shared weights\n",
        "#     Uses instance normalization\n",
        "#     input: images of size 160, 240, 3; D is number of feature maps\n",
        "#     output: feature maps of each input image with size 20, 30, D\n",
        "#     '''\n",
        "#     return img1_fm, img2_fm"
      ],
      "metadata": {
        "id": "s2qp1BFudVQt"
      },
      "execution_count": null,
      "outputs": []
    },
    {
      "cell_type": "code",
      "source": [
        "# def context_encoder(img1, c, h):\n",
        "#     '''Similar architecture to feature_encoder CNN\n",
        "#     Only extracts weights of img1\n",
        "#     Uses batch normalization\n",
        "#     input: image of size 160, 240, 3; c is number of context feature maps and h is number of hidden feature maps\n",
        "#     output:feature maps of input image with size 20, 30, c+h\n",
        "#     '''\n",
        "#     return context_hidden_fm"
      ],
      "metadata": {
        "id": "lRL6YuIdttJt"
      },
      "execution_count": null,
      "outputs": []
    },
    {
      "cell_type": "code",
      "source": [
        "# def visual_similarity(img1_fm, img2_fm):\n",
        "#     '''Compute the 4D correlation of the feature maps by taking the dot product\n",
        "#     of feature maps for each image and summing accross all feature maps (along dim D)\n",
        "#     input: feature maps from the feature encoder\n",
        "#     output: correlation features of size\n",
        "#     '''\n",
        "#     return corr_features"
      ],
      "metadata": {
        "id": "mdHGGUVwvGuJ"
      },
      "execution_count": null,
      "outputs": []
    },
    {
      "cell_type": "code",
      "source": [
        "# #optional implementation as a means to address larger pixel displacements\n",
        "# #w/o this visual similarity may work well for small displacements but strugger with larger ones\n",
        "# def correlation_pyramid(img1_fm, img2_fm):\n",
        "#     '''use visual similarity function and average pooling of the last two dimensions\n",
        "#     to get multuple levels of correlation\n",
        "#     Add resampling to get correlation features in the right shape for the update block\n",
        "#     input: feature maps from the feature encoder\n",
        "#     output: correlation features of size\n",
        "#     '''\n",
        "#     return corr_features"
      ],
      "metadata": {
        "id": "zJSBgsd7w86Z"
      },
      "execution_count": null,
      "outputs": []
    },
    {
      "cell_type": "code",
      "source": [
        "# #maybe break this function up more\n",
        "# def iterative_update(corr_features, current_flow, context_hidden_fm, warm_start=0):\n",
        "#     '''Recurrently update flow, then pass through a flow head\n",
        "#     Concat correlation features, current flow estimate, context features and hidden features\n",
        "#     In each iteration update the flow: new_flow = current_flow + delta_flow\n",
        "#     Final conv layers to resize estimate to 20, 30, 2\n",
        "#     Convex Upsampling to size 20, 30, (8*8)\n",
        "#     Obtain a weighted combination over the neighborhood and reshape to get a 20x30x2 flow field\n",
        "#     Warm start can be optionally implemented if we have the previously projected estimation and we'd like to start from there instead of 0\n",
        "#     '''\n",
        "#     return final_flow"
      ],
      "metadata": {
        "id": "t3wG9jP7xttV"
      },
      "execution_count": null,
      "outputs": []
    },
    {
      "cell_type": "code",
      "source": [
        "# def training(final_flow, ground_truth):\n",
        "#     '''Loss is the sum of weighted l1 distances between the flow predictions and ground truth,\n",
        "#      with exponentially increasing weights\n",
        "#      '''\n",
        "#     return predictions"
      ],
      "metadata": {
        "id": "wF5GfKgw1XQj"
      },
      "execution_count": null,
      "outputs": []
    }
  ]
}