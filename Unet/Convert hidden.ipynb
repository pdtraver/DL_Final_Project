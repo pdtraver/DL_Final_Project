{
 "cells": [
  {
   "cell_type": "code",
   "execution_count": 1,
   "id": "3ed6fadb-94ac-4ecf-a844-79428a3a76e1",
   "metadata": {},
   "outputs": [],
   "source": [
    "import os\n",
    "import numpy as np\n",
    "import torch\n",
    "import torch.nn as nn\n",
    "import torch.optim as optim\n",
    "import torchvision.transforms as transforms\n",
    "from torch.utils.data import Dataset, DataLoader, RandomSampler, SequentialSampler\n",
    "from PIL import Image"
   ]
  },
  {
   "cell_type": "code",
   "execution_count": 2,
   "id": "4279a5fd-e1f6-4f0b-aec2-f2d6d2ecaa09",
   "metadata": {},
   "outputs": [
    {
     "name": "stdout",
     "output_type": "stream",
     "text": [
      "Using CUDA for tensor operations\n"
     ]
    }
   ],
   "source": [
    "if torch.cuda.is_available():\n",
    "    # Set the default device to CUDA\n",
    "    device = torch.device('cuda')\n",
    "    torch.set_default_device(device)\n",
    "    print('Using CUDA for tensor operations')\n",
    "    torch.cuda.empty_cache()\n",
    "else:\n",
    "    device = torch.device('cpu')\n",
    "    print('CUDA is not available. Using CPU for tensor operations')"
   ]
  },
  {
   "cell_type": "code",
   "execution_count": 3,
   "id": "6be95983-b36f-4725-ae4f-acb1378564aa",
   "metadata": {},
   "outputs": [],
   "source": [
    "class UNet(nn.Module):\n",
    "    def __init__(self):\n",
    "        super(UNet, self).__init__()\n",
    "        # Encoder\n",
    "        self.down1 = self.contract_block(3, 64, 7, 3)\n",
    "        self.down2 = self.contract_block(64, 128, 3, 1)\n",
    "        self.down3 = self.contract_block(128, 256, 3, 1)\n",
    "        self.down4 = self.contract_block(256, 512, 3, 1)\n",
    "\n",
    "        # Decoder\n",
    "        self.up3 = self.expand_block(512, 256, 3, 1)\n",
    "        self.up2 = self.expand_block(256, 128, 3, 1)\n",
    "        self.up1 = self.expand_block(128, 64, 3, 1)\n",
    "        self.final_up = nn.ConvTranspose2d(64, 49, kernel_size=3, stride=2, padding=1, output_padding=1)\n",
    "        self.final = nn.Conv2d(49, 49, kernel_size=1)  # Change from 1 to 48\n",
    "\n",
    "    def forward(self, x):\n",
    "        # Encoder\n",
    "        x1 = self.down1(x)\n",
    "        x2 = self.down2(x1)\n",
    "        x3 = self.down3(x2)\n",
    "        x4 = self.down4(x3)\n",
    "\n",
    "        # Decoder\n",
    "        x = self.up3(x4)\n",
    "        x = self.up2(x + x3)\n",
    "        x = self.up1(x + x2)\n",
    "        x = self.final_up(x + x1)\n",
    "        x = self.final(x)\n",
    "\n",
    "        return x\n",
    "\n",
    "    def contract_block(self, in_channels, out_channels, kernel_size, padding):\n",
    "        contract = nn.Sequential(\n",
    "            nn.Conv2d(in_channels, out_channels, kernel_size=kernel_size, padding=padding),\n",
    "            nn.ReLU(),\n",
    "            nn.BatchNorm2d(out_channels),\n",
    "            nn.MaxPool2d(kernel_size=3, stride=2, padding=1)\n",
    "        )\n",
    "        return contract\n",
    "\n",
    "    def expand_block(self, in_channels, out_channels, kernel_size, padding):\n",
    "        expand = nn.Sequential(\n",
    "            nn.ConvTranspose2d(in_channels, out_channels, kernel_size=3, stride=2, padding=1, output_padding=1),\n",
    "            nn.ReLU(),\n",
    "            nn.BatchNorm2d(out_channels),\n",
    "            nn.Conv2d(out_channels, out_channels, kernel_size=kernel_size, padding=padding),\n",
    "            nn.ReLU(),\n",
    "            nn.BatchNorm2d(out_channels)\n",
    "        )\n",
    "        return expand"
   ]
  },
  {
   "cell_type": "code",
   "execution_count": 4,
   "id": "0a9ee431",
   "metadata": {},
   "outputs": [
    {
     "data": {
      "text/plain": [
       "UNet(\n",
       "  (down1): Sequential(\n",
       "    (0): Conv2d(3, 64, kernel_size=(7, 7), stride=(1, 1), padding=(3, 3))\n",
       "    (1): ReLU()\n",
       "    (2): BatchNorm2d(64, eps=1e-05, momentum=0.1, affine=True, track_running_stats=True)\n",
       "    (3): MaxPool2d(kernel_size=3, stride=2, padding=1, dilation=1, ceil_mode=False)\n",
       "  )\n",
       "  (down2): Sequential(\n",
       "    (0): Conv2d(64, 128, kernel_size=(3, 3), stride=(1, 1), padding=(1, 1))\n",
       "    (1): ReLU()\n",
       "    (2): BatchNorm2d(128, eps=1e-05, momentum=0.1, affine=True, track_running_stats=True)\n",
       "    (3): MaxPool2d(kernel_size=3, stride=2, padding=1, dilation=1, ceil_mode=False)\n",
       "  )\n",
       "  (down3): Sequential(\n",
       "    (0): Conv2d(128, 256, kernel_size=(3, 3), stride=(1, 1), padding=(1, 1))\n",
       "    (1): ReLU()\n",
       "    (2): BatchNorm2d(256, eps=1e-05, momentum=0.1, affine=True, track_running_stats=True)\n",
       "    (3): MaxPool2d(kernel_size=3, stride=2, padding=1, dilation=1, ceil_mode=False)\n",
       "  )\n",
       "  (down4): Sequential(\n",
       "    (0): Conv2d(256, 512, kernel_size=(3, 3), stride=(1, 1), padding=(1, 1))\n",
       "    (1): ReLU()\n",
       "    (2): BatchNorm2d(512, eps=1e-05, momentum=0.1, affine=True, track_running_stats=True)\n",
       "    (3): MaxPool2d(kernel_size=3, stride=2, padding=1, dilation=1, ceil_mode=False)\n",
       "  )\n",
       "  (up3): Sequential(\n",
       "    (0): ConvTranspose2d(512, 256, kernel_size=(3, 3), stride=(2, 2), padding=(1, 1), output_padding=(1, 1))\n",
       "    (1): ReLU()\n",
       "    (2): BatchNorm2d(256, eps=1e-05, momentum=0.1, affine=True, track_running_stats=True)\n",
       "    (3): Conv2d(256, 256, kernel_size=(3, 3), stride=(1, 1), padding=(1, 1))\n",
       "    (4): ReLU()\n",
       "    (5): BatchNorm2d(256, eps=1e-05, momentum=0.1, affine=True, track_running_stats=True)\n",
       "  )\n",
       "  (up2): Sequential(\n",
       "    (0): ConvTranspose2d(256, 128, kernel_size=(3, 3), stride=(2, 2), padding=(1, 1), output_padding=(1, 1))\n",
       "    (1): ReLU()\n",
       "    (2): BatchNorm2d(128, eps=1e-05, momentum=0.1, affine=True, track_running_stats=True)\n",
       "    (3): Conv2d(128, 128, kernel_size=(3, 3), stride=(1, 1), padding=(1, 1))\n",
       "    (4): ReLU()\n",
       "    (5): BatchNorm2d(128, eps=1e-05, momentum=0.1, affine=True, track_running_stats=True)\n",
       "  )\n",
       "  (up1): Sequential(\n",
       "    (0): ConvTranspose2d(128, 64, kernel_size=(3, 3), stride=(2, 2), padding=(1, 1), output_padding=(1, 1))\n",
       "    (1): ReLU()\n",
       "    (2): BatchNorm2d(64, eps=1e-05, momentum=0.1, affine=True, track_running_stats=True)\n",
       "    (3): Conv2d(64, 64, kernel_size=(3, 3), stride=(1, 1), padding=(1, 1))\n",
       "    (4): ReLU()\n",
       "    (5): BatchNorm2d(64, eps=1e-05, momentum=0.1, affine=True, track_running_stats=True)\n",
       "  )\n",
       "  (final_up): ConvTranspose2d(64, 49, kernel_size=(3, 3), stride=(2, 2), padding=(1, 1), output_padding=(1, 1))\n",
       "  (final): Conv2d(49, 49, kernel_size=(1, 1), stride=(1, 1))\n",
       ")"
      ]
     },
     "execution_count": 4,
     "metadata": {},
     "output_type": "execute_result"
    }
   ],
   "source": [
    "# Initialize the model\n",
    "model = UNet().to(device)\n",
    "\n",
    "# Path to your saved checkpoint\n",
    "checkpoint_path = \"TrainUnet/Unet_checkpoint_epoch_89.pt\"  # Replace xx with the actual epoch number\n",
    "\n",
    "# Load the checkpoint\n",
    "checkpoint = torch.load(checkpoint_path)\n",
    "\n",
    "# Update model's state dictionary\n",
    "model.load_state_dict(checkpoint)\n",
    "\n",
    "# If you're using the model for inference\n",
    "model.eval()"
   ]
  },
  {
   "cell_type": "code",
   "execution_count": 5,
   "id": "6cff1702",
   "metadata": {},
   "outputs": [],
   "source": [
    "class CLEVRDataset(Dataset):\n",
    "    def __init__(self, path, transform=None):\n",
    "        self.video_paths = [os.path.join(path, dir_path) for dir_path in os.listdir(path) if dir_path.startswith('video')]\n",
    "        self.transform = transform\n",
    "        self._get_num_samples()\n",
    "        \n",
    "        if self.transform is None:\n",
    "            self.transform = transforms.Compose([\n",
    "                transforms.ToTensor(),  # Converts PIL Image to Tensor.\n",
    "                transforms.Normalize(mean=[0.485, 0.456, 0.406],  # Standard normalization for pre-trained models.\n",
    "                                     std=[0.229, 0.224, 0.225])\n",
    "            ])\n",
    "\n",
    "    def __len__(self):\n",
    "        return self.num_samples\n",
    "\n",
    "    def _get_num_samples(self):\n",
    "        self.num_samples = 11 * len(self.video_paths)\n",
    "\n",
    "    def __getitem__(self, idx):\n",
    "        image_index = idx % 11\n",
    "        folder_index = int(idx/11)\n",
    "        \n",
    "        img_name = os.path.join(self.video_paths[folder_index], f'image_{image_index}.png')\n",
    "        \n",
    "        image = Image.open(img_name).convert(\"RGB\")\n",
    "\n",
    "        image = self.transform(image).to(device)\n",
    "\n",
    "        return image, self.video_paths[folder_index]\n"
   ]
  },
  {
   "cell_type": "code",
   "execution_count": 6,
   "id": "8049a75a",
   "metadata": {},
   "outputs": [],
   "source": [
    "batch_size = 11\n",
    "# Dataset and DataLoader\n",
    "dataset = CLEVRDataset(path='TrainUnet/hidden')\n",
    "\n",
    "# Assuming 'dataset' is already defined\n",
    "generator = torch.Generator(device='cuda')\n",
    "sampler = SequentialSampler(dataset)  # Use SequentialSampler to maintain order\n",
    "dataloader = DataLoader(dataset, batch_size=batch_size, sampler=sampler, shuffle=False)"
   ]
  },
  {
   "cell_type": "code",
   "execution_count": 15,
   "id": "538d4151",
   "metadata": {},
   "outputs": [],
   "source": [
    "count_videos = 0\n",
    "slices = []\n",
    "for images, folder in dataloader:\n",
    "    if not all(elem == folder[0] for elem in folder):\n",
    "        raise ValueError(\"All elements in the folder array must be the same value.\")\n",
    "        \n",
    "    count_videos += 1\n",
    "    images = images.to(device)  # Assuming 'device' is defined, e.g., device = torch.device(\"cuda\")\n",
    "    save_path = os.path.join(\"UnetData_89_epoch_hidden\", folder[0], \"mask.npy\")\n",
    "    os.makedirs(os.path.dirname(save_path), exist_ok=True)\n",
    "    outputs = model(images)  # Assuming 'model' is defined and properly configured\n",
    "    argmax_result = torch.argmax(outputs, dim=1)\n",
    "    np.save(save_path, argmax_result.cpu().detach().numpy())  # Save the outputs as a NumPy array\n",
    "\n",
    "    slice_11 = argmax_result[10]\n",
    "    slices.append(slice_11.cpu().detach().numpy())"
   ]
  },
  {
   "cell_type": "code",
   "execution_count": 18,
   "id": "517db374",
   "metadata": {},
   "outputs": [
    {
     "data": {
      "text/plain": [
       "4850"
      ]
     },
     "execution_count": 18,
     "metadata": {},
     "output_type": "execute_result"
    }
   ],
   "source": [
    "new_matrix = np.stack(slices, axis=0)\n",
    "count_videos"
   ]
  },
  {
   "cell_type": "code",
   "execution_count": 19,
   "id": "9a7d1892",
   "metadata": {},
   "outputs": [],
   "source": [
    "save_path = \"TrainUnet/lasthidden.npy\"\n",
    "np.save(save_path, new_matrix)"
   ]
  }
 ],
 "metadata": {
  "kernelspec": {
   "display_name": "cloudspace",
   "language": "python",
   "name": "python3"
  },
  "language_info": {
   "codemirror_mode": {
    "name": "ipython",
    "version": 3
   },
   "file_extension": ".py",
   "mimetype": "text/x-python",
   "name": "python",
   "nbconvert_exporter": "python",
   "pygments_lexer": "ipython3",
   "version": "3.10.10"
  }
 },
 "nbformat": 4,
 "nbformat_minor": 5
}
