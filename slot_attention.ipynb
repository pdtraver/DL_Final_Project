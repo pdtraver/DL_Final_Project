{
  "nbformat": 4,
  "nbformat_minor": 0,
  "metadata": {
    "colab": {
      "provenance": []
    },
    "kernelspec": {
      "name": "python3",
      "display_name": "Python 3"
    },
    "language_info": {
      "name": "python"
    }
  },
  "cells": [
    {
      "cell_type": "markdown",
      "source": [
        "#Leave EDA for now"
      ],
      "metadata": {
        "id": "VZdbp8YqsVrK"
      }
    },
    {
      "cell_type": "code",
      "execution_count": null,
      "metadata": {
        "colab": {
          "base_uri": "https://localhost:8080/"
        },
        "id": "ILZnqLO4uAD7",
        "outputId": "84090525-a8cc-471b-b696-611c1ed2ac43"
      },
      "outputs": [
        {
          "output_type": "stream",
          "name": "stdout",
          "text": [
            "Downloading...\n",
            "From (original): https://drive.google.com/uc?id=1iYTFuf4DgxgYQzTQ_2da1vC9es_niPRr\n",
            "From (redirected): https://drive.google.com/uc?id=1iYTFuf4DgxgYQzTQ_2da1vC9es_niPRr&confirm=t&uuid=684e9e53-3fad-4d78-9687-8a65df37d2c8\n",
            "To: /content/dataset_student.zip\n",
            "100% 11.8G/11.8G [01:43<00:00, 114MB/s]\n"
          ]
        }
      ],
      "source": [
        "!gdown https://drive.google.com/uc?id=1iYTFuf4DgxgYQzTQ_2da1vC9es_niPRr"
      ]
    },
    {
      "cell_type": "code",
      "source": [
        "!tar -xvf dataset_student.zip"
      ],
      "metadata": {
        "id": "o4Q3gfyouWo3"
      },
      "execution_count": null,
      "outputs": []
    },
    {
      "cell_type": "code",
      "source": [
        "import glob\n",
        "import os\n",
        "import random\n",
        "from PIL import Image\n",
        "import numpy as np\n",
        "import matplotlib.pyplot as plt\n",
        "import torch\n",
        "import torch.nn\n",
        "import torch.nn.functional as F\n",
        "import datetime\n",
        "import time"
      ],
      "metadata": {
        "id": "Jyl44rdzvhaG"
      },
      "execution_count": null,
      "outputs": []
    },
    {
      "cell_type": "code",
      "source": [
        "print(f\"The training set has {len(os.listdir('dataset/train'))} videos, and each video has {len(glob.glob('dataset/train/video_00000/*.png'))} frames and {len(glob.glob('dataset/train/video_00000/*.npy'))} mask file for all frames\")\n",
        "print(f\"The validation set has {len(os.listdir('dataset/val'))} videos, and each video has {len(glob.glob('dataset/val/video_01000/*.png'))} frames and {len(glob.glob('dataset/val/video_01000/*.npy'))} mask file for all frames\")\n",
        "print(f\"The unlabeled set has {len(os.listdir('dataset/unlabeled'))} videos, and each video has {len(glob.glob('dataset/unlabeled/video_02000/*.png'))} frames and {len(glob.glob('dataset/unlabeled/video_02000/*.npy'))} mask file for all frames\")"
      ],
      "metadata": {
        "colab": {
          "base_uri": "https://localhost:8080/"
        },
        "id": "goxWHFgTvufi",
        "outputId": "9f936f37-0dc4-46bd-d19d-3eaea3f1e554"
      },
      "execution_count": null,
      "outputs": [
        {
          "output_type": "stream",
          "name": "stdout",
          "text": [
            "The training set has 1000 videos, and each video has 22 frames and 1 mask file for all frames\n",
            "The validation set has 1000 videos, and each video has 22 frames and 1 mask file for all frames\n",
            "The unlabeled set has 13000 videos, and each video has 22 frames and 0 mask file for all frames\n"
          ]
        }
      ]
    },
    {
      "cell_type": "code",
      "source": [
        "mask = np.load('dataset/train/video_00000/mask.npy')\n",
        "print(f\"The mask file has the shape {mask.shape}.\")\n",
        "img = Image.open('dataset/train/video_00000/image_0.png')\n",
        "data = np.asarray(img, dtype=\"int32\")\n",
        "print(f\"Each image has the shape {data.shape}\")"
      ],
      "metadata": {
        "colab": {
          "base_uri": "https://localhost:8080/"
        },
        "id": "zCEYQfJXvw6x",
        "outputId": "eefcd1e1-00be-4a75-dbf4-8bb88c8607f0"
      },
      "execution_count": null,
      "outputs": [
        {
          "output_type": "stream",
          "name": "stdout",
          "text": [
            "The mask file has the shape (22, 160, 240).\n",
            "Each image has the shape (160, 240, 3)\n"
          ]
        }
      ]
    },
    {
      "cell_type": "code",
      "source": [
        "print(\"Let's visualize them:\")\n",
        "\n",
        "def get_a_random_image(dir=\"dataset/train\"):\n",
        "    all_videos = os.listdir(dir)\n",
        "    picked_video = random.choice(all_videos)\n",
        "    all_images = os.listdir(os.path.join(dir, picked_video))\n",
        "    picked_image = random.choice(all_images)\n",
        "    picked_image_idx = int(picked_image[len(\"image_\"):-len(\".png\")])\n",
        "\n",
        "    img = Image.open(os.path.join(dir, picked_video, picked_image))\n",
        "    data = np.asarray(img, dtype=\"int32\")\n",
        "\n",
        "\n",
        "    mask = np.load(os.path.join(dir, picked_video, \"mask.npy\"))\n",
        "\n",
        "    return data, mask[picked_image_idx]"
      ],
      "metadata": {
        "colab": {
          "base_uri": "https://localhost:8080/"
        },
        "id": "DG8Ia8NDvyiv",
        "outputId": "f3c5fca2-4a60-482e-bd24-fdee7e928b36"
      },
      "execution_count": null,
      "outputs": [
        {
          "output_type": "stream",
          "name": "stdout",
          "text": [
            "Let's visualize them:\n"
          ]
        }
      ]
    },
    {
      "cell_type": "code",
      "source": [
        "data, mask = get_a_random_image()\n",
        "plt.figure(figsize=(10, 5))\n",
        "\n",
        "plt.subplot(1, 2, 1)  # 1 row, 2 columns, 1st subplot\n",
        "plt.imshow(data)\n",
        "plt.axis('off')\n",
        "\n",
        "# Plot the second image\n",
        "plt.subplot(1, 2, 2)  # 1 row, 2 columns, 2nd subplot\n",
        "plt.imshow(mask)\n",
        "plt.axis('off')"
      ],
      "metadata": {
        "colab": {
          "base_uri": "https://localhost:8080/",
          "height": 306
        },
        "id": "E6ImpK_Cv0Vg",
        "outputId": "26d94a6b-d87e-4121-94b3-4851a520c714"
      },
      "execution_count": null,
      "outputs": [
        {
          "output_type": "stream",
          "name": "stdout",
          "text": [
            "11\n"
          ]
        },
        {
          "output_type": "execute_result",
          "data": {
            "text/plain": [
              "(-0.5, 239.5, 159.5, -0.5)"
            ]
          },
          "metadata": {},
          "execution_count": 22
        },
        {
          "output_type": "display_data",
          "data": {
            "text/plain": [
              "<Figure size 1000x500 with 2 Axes>"
            ],
            "image/png": "[encoded data removed]"
          },
          "metadata": {}
        }
      ]
    },
    {
      "cell_type": "markdown",
      "source": [
        "#Building a Model\n",
        "\n"
      ],
      "metadata": {
        "id": "24kYQuX6JctW"
      }
    },
    {
      "cell_type": "markdown",
      "source": [
        "#Slot Attention\n",
        "\n",
        "to do:\n",
        "1. test this code and make sure it runs on a small subset of data\n",
        "2. inference - just return masks instead of recon_combined, recons, masks, slots\n",
        "3. believe this is just for object discovery, not sure we'll get the different colors with this alone."
      ],
      "metadata": {
        "id": "9ElQXapbIYBd"
      }
    },
    {
      "cell_type": "code",
      "source": [
        "class SlotAttentionAutoEncoder(nn.Module):\n",
        "\n",
        "      def __init__(self, resolution, num_slots, num_iterations):\n",
        "        \"\"\"Builds the Slot Attention-based auto-encoder.\n",
        "\n",
        "        Args:\n",
        "          resolution: Tuple of integers specifying width and height of input image.\n",
        "          num_slots: Number of slots in Slot Attention.\n",
        "          num_iterations: Number of iterations in Slot Attention.\n",
        "        \"\"\"\n",
        "        super().__init__()\n",
        "        self.resolution = resolution\n",
        "        self.num_slots = num_slots\n",
        "        self.num_iterations = num_iterations\n",
        "\n",
        "        self.encoder_cnn = nn.Sequential([\n",
        "                nn.LazyConv2d(64, kernel_size=5),\n",
        "                nn.ReLU(),\n",
        "                nn.LazyConv2d(64, kernel_size=5),\n",
        "                nn.ReLU(),\n",
        "                nn.LazyConv2d(64, kernel_size=5),\n",
        "                nn.ReLU(),\n",
        "                nn.LazyConv2d(64, kernel_size=5),\n",
        "                nn.ReLU()\n",
        "            ])\n",
        "\n",
        "        self.decoder_initial_size = (8, 8)\n",
        "        self.decoder_cnn = nn.Sequential([\n",
        "                nn.LazyConvTranspose2d(64, kernel_size=5, stride = (2,2)),\n",
        "                nn.ReLU(),\n",
        "                nn.LazyConvTranspose2d(64, kernel_size=5, stride = (2,2)),\n",
        "                nn.ReLU(),\n",
        "                nn.LazyConvTranspose2d(64, kernel_size=5, stride = (2,2)),\n",
        "                nn.ReLU(),\n",
        "                nn.LazyConvTranspose2d(64, kernel_size=5, stride = (2,2)),\n",
        "                nn.ReLU(),\n",
        "                nn.LazyConvTranspose2d(64, kernel_size=5, stride = (1, 1)),\n",
        "                nn.ReLU(),\n",
        "                nn.LazyConvTranspose2d(4, kernel_size=3, stride = (1, 1))\n",
        "            ])\n",
        "\n",
        "        self.encoder_pos = SoftPositionEmbed(64, self.resolution)\n",
        "        self.decoder_pos = SoftPositionEmbed(64, self.decoder_initial_size)\n",
        "\n",
        "        self.layer_norm = nn.LayerNorm()\n",
        "        self.mlp = nn.Sequential([\n",
        "            layers.LazyLinear(64),\n",
        "            nn.ReLU(),\n",
        "            layers.LazyLinear(64)\n",
        "        ])\n",
        "\n",
        "        self.slot_attention = SlotAttention(\n",
        "            num_iterations=self.num_iterations, #3\n",
        "            num_slots=self.num_slots, #7\n",
        "            slot_size=64,\n",
        "            mlp_hidden_size=128)\n",
        "    def __init__(self, num_iterations, num_slots, slot_size, mlp_hidden_size, epsilon, p, d_input=None):\n",
        "\n",
        "\n",
        "      def forward(image):\n",
        "          # `image` has shape: [batch_size, 160, 240, 3].\n",
        "\n",
        "          # Convolutional encoder with position embedding.\n",
        "          x = self.encoder_cnn(image)  # CNN Backbone\n",
        "          x = self.encoder_pos(x)  # Position embedding\n",
        "          x = torch.view(x, [-1, x.size()[1] * x.size()[2], x.size()[-1]]) # Flatten spatial dimensions (treat image as set).\n",
        "          x = self.mlp(self.layer_norm(x))  # Feedforward network on set.\n",
        "          # `x` has shape: [batch_size, width*height, input_size].\n",
        "\n",
        "          # Slot Attention module.\n",
        "          slots = self.slot_attention(x)\n",
        "          # `slots` has shape: [batch_size, num_slots, slot_size].\n",
        "\n",
        "          # Spatial broadcast decoder.\n",
        "          x = self.spatial_broadcast(slots, (8, 8)) # self.decoder_initial_size I suppose just set this to whatever the slots shape is?\n",
        "          # `x` has shape: [batch_size*num_slots, width_init, height_init, slot_size].\n",
        "          x = self.decoder_pos(x)\n",
        "          x = self.decoder_cnn(x)\n",
        "          # `x` has shape: [batch_size*num_slots, width, height, num_channels+1].\n",
        "\n",
        "          # Undo combination of slot and batch dimension; split alpha masks.\n",
        "          recons, masks = self.unstack_and_split(x, batch_size=image.shape[0])\n",
        "          # `recons` has shape: [batch_size, num_slots, width, height, num_channels].\n",
        "          # `masks` has shape: [batch_size, num_slots, width, height, 1].\n",
        "\n",
        "          # Normalize alpha masks over slots.\n",
        "          masks = F.softmax(masks, sim=1)\n",
        "          recon_combined = torch.sum(recons * masks, dim=1)  # Recombine image. #check that this is the right fn. i thought we needed sum? check the alg\n",
        "          # `recon_combined` has shape: [batch_size, width, height, num_channels].\n",
        "\n",
        "          return recon_combined, recons, masks, slots\n",
        "\n",
        "      def spatial_broadcast(self, slots, resolution):\n",
        "          \"\"\"Broadcast slot features to a 2D grid and collapse slot dimension.\"\"\"\n",
        "          # `slots` has shape: [batch_size, num_slots, slot_size].\n",
        "          slots = torch.viewe(slots, [-1, slots.size()[-1]])[:, None, None, :]\n",
        "          grid = torch.tile(slots, [1, resolution[0], resolution[1], 1])\n",
        "          # `grid` has shape: [batch_size*num_slots, width, height, slot_size].\n",
        "          return grid\n",
        "\n",
        "      def unstack_and_split(self, x, batch_size, num_channels=3):\n",
        "        \"\"\"Unstack batch dimension and split into channels and alpha mask.\"\"\"\n",
        "        unstacked = torch.view(x, [batch_size, -1] + list(x.size())[1:])\n",
        "        channels, masks = torch.split(unstacked, [num_channels, 1], axis=-1)\n",
        "        return channels, masks\n"
      ],
      "metadata": {
        "id": "m3bmlZ66KhYa"
      },
      "execution_count": null,
      "outputs": []
    },
    {
      "cell_type": "code",
      "source": [
        "class SoftPositionEmbed(nn.Module):\n",
        "  \"\"\"Adds soft positional embedding with learnable projection.\"\"\"\n",
        "\n",
        "  def __init__(self, hidden_size, resolution):\n",
        "    \"\"\"Builds the soft position embedding layer.\n",
        "\n",
        "    Args:\n",
        "      hidden_size: Size of input feature dimension.\n",
        "      resolution: Tuple of integers specifying width and height of grid.\n",
        "    \"\"\"\n",
        "    super().__init__()\n",
        "    self.linear = nn.LazyLinear(hidden_size, bias=True)\n",
        "    self.grid = self.build_grid(resolution)\n",
        "\n",
        "  def forward(self, inputs):\n",
        "    return inputs + self.linear(self.grid)\n",
        "\n",
        "  def build_grid(resolution):\n",
        "    ranges = [np.linspace(0., 1., num=res) for res in resolution]\n",
        "    grid = np.meshgrid(*ranges, sparse=False, indexing=\"ij\")\n",
        "    grid = np.stack(grid, axis=-1)\n",
        "    grid = np.reshape(grid, [resolution[0], resolution[1], -1])\n",
        "    grid = np.expand_dims(grid, axis=0)\n",
        "    grid = grid.astype(np.float32)\n",
        "    return np.concatenate([grid, 1.0 - grid], axis=-1)\n"
      ],
      "metadata": {
        "id": "9SZH-5QnIMp4"
      },
      "execution_count": null,
      "outputs": []
    },
    {
      "cell_type": "code",
      "source": [
        "class SlotAttention(nn.Module):\n",
        "    def __init__(self, num_iterations, num_slots, slot_size, mlp_hidden_size, epsilon=1e-8):\n",
        "        super().__init__()\n",
        "        self.num_iterations = num_iterations\n",
        "        self.num_slots = num_slots\n",
        "        self.slot_size = slot_size\n",
        "        self.mlp_hidden_size = mlp_hidden_size\n",
        "        self.epsilon = epsilon\n",
        "\n",
        "        # Linear maps for the attention module.\n",
        "        self.W_q = nn.LazyLinear(self.slot_size, bias=False)\n",
        "        self.W_k = nn.LazyLinear(self.slot_size, bias=False)\n",
        "        self.W_v = nn.LazyLinear(self.slot_size, bias=False)\n",
        "\n",
        "        # Normalization\n",
        "        self.norm_inputs = torch.nn.LayerNorm()\n",
        "        self.norm_slots = torch.nn.LayerNorm()\n",
        "        self.norm_mlp = torch.nn.LayerNorm()\n",
        "\n",
        "        self.slots_mu = torch.nn.init.xavier_uniform(self.W_q.weight)\n",
        "        self.slots_log_sigma = torch.nn.init.xavier_uniform(self.W_q.weight)\n",
        "\n",
        "        # Parameters for Gaussian init (shared by all slots) - this part might be off.. what's torch equivalent of self.add_weight\n",
        "        # self.slots_mu = self.add_weight(\n",
        "        #     initializer=\"glorot_uniform\",\n",
        "        #     shape=[1, 1, self.slot_size],\n",
        "        #     dtype=float,\n",
        "        #     name=\"slots_mu\")\n",
        "        # self.slots_log_sigma = self.add_weight(\n",
        "        #     initializer=\"glorot_uniform\",\n",
        "        #     shape=[1, 1, self.slot_size],\n",
        "        #     dtype=float,\n",
        "        #     name=\"slots_log_sigma\")\n",
        "\n",
        "        # Slot update functions.\n",
        "        self.gru = nn.GRUCell(self.slot_size)\n",
        "\n",
        "        self.mlp = nn.Sequential([\n",
        "            nn.LazyLinear(self.mlp_hidden_size),\n",
        "            mm.ReLU(),\n",
        "            nn.LazyLinear(self.slot_size)\n",
        "        ], name=\"mlp\")\n",
        "\n",
        "    def forward(self, inputs):\n",
        "      # `inputs` has shape [batch_size, num_inputs, inputs_size].\n",
        "      inputs = self.norm_inputs(inputs)  # Apply layer norm to the input.\n",
        "      k = self.W_k(inputs)  # Shape: [batch_size, num_inputs, slot_size].\n",
        "      v = self.W_v(inputs)  # Shape: [batch_size, num_inputs, slot_size].\n",
        "\n",
        "      # Initialize the slots. Shape: [batch_size, num_slots, slot_size].\n",
        "      slots = self.slots_mu + torch.exp(self.slots_log_sigma) * torch.normal(\n",
        "          mean=torch.zeros([inputs.size()[0], self.num_slots, self.slot_size]), std=torch.ones([inputs.size()[0], self.num_slots, self.slot_size]))\n",
        "\n",
        "      # Multiple rounds of attention.\n",
        "      for _ in range(self.num_iterations):\n",
        "        slots_prev = slots\n",
        "        slots = self.norm_slots(slots)\n",
        "\n",
        "        # Attention.\n",
        "        q = self.W_q(slots)  # Shape: [batch_size, num_slots, slot_size].\n",
        "        q *= self.slot_size ** -0.5  # Normalization.\n",
        "\n",
        "        updates = scaled_dot_product_attention(self, Q, K, V)\n",
        "        # `updates` has shape: [batch_size, num_slots, slot_size].\n",
        "\n",
        "        # Slot update.\n",
        "        slots, _ = self.gru(updates, [slots_prev])\n",
        "        slots += self.mlp(self.norm_mlp(slots))\n",
        "\n",
        "      return slots\n",
        "\n",
        "    def scaled_dot_product_attention(self, Q, K, V):\n",
        "        batch_size = Q.size(0)\n",
        "        k_length = K.size(-2)\n",
        "\n",
        "        # Scaling by d_k so that the softargmax doesnt saturate\n",
        "        Q = Q / np.sqrt(self.d_k)                   # (bs, n_heads, q_length, dim_per_head)\n",
        "        scores = torch.matmul(Q, K.transpose(2,3))  # (bs, n_heads, q_length, k_length)\n",
        "\n",
        "        A = f.softargmax(scores, dim=-1)            # (bs, n_heads, q_length, k_length)\n",
        "        A += self.epsilon\n",
        "        A /= torch.sum(A, dim=-2, keepdim=True)\n",
        "\n",
        "        # Get the weighted average of the values\n",
        "        H = torch.matmul(A, V)                      # (bs, n_heads, q_length, dim_per_head)\n",
        "\n",
        "        return H\n"
      ],
      "metadata": {
        "id": "NXWRNjliPFu4"
      },
      "execution_count": null,
      "outputs": []
    },
    {
      "cell_type": "code",
      "source": [
        "#train step\n",
        "\n",
        "batch_size = 64\n",
        "num_slots = 7\n",
        "num_iterations = 3\n",
        "learning_rate = 0.0004\n",
        "num_train_steps = 500000\n",
        "warmup_steps = 10000\n",
        "decay_rate = 0.5\n",
        "decay_steps = 100000\n",
        "\n",
        "def l2_loss(prediction, target):\n",
        "    # return tf.reduce_mean(tf.math.squared_difference(prediction, target))\n",
        "    loss = nn.MSELoss(reduction='mean')\n",
        "    return loss(prediction, target)\n",
        "\n",
        "def train_step(batch, model, optimizer):\n",
        "    \"\"\"Perform a single training step.\"\"\"\n",
        "\n",
        "    #zero the gradient\n",
        "    optimizer.zero_grad()\n",
        "    # Get the prediction of the models and compute the loss.\n",
        "    preds = model(batch[\"image\"], training=True)\n",
        "    recon_combined, recons, masks, slots = preds\n",
        "    loss_value = l2_loss(batch[\"image\"], recon_combined)\n",
        "    #backprop and step\n",
        "    loss.backward()\n",
        "    optimizer.step()\n",
        "    #return loss\n",
        "\n",
        "    return loss_value\n",
        "\n",
        "\n",
        "def main(argv, batch_size, num_slots, num_iterations, base_learning_rate, num_train_steps, warmup_steps, decay_rate, decay_steps):\n",
        "\n",
        "      resolution = (128, 128)\n",
        "\n",
        "      # Build dataset iterators, optimizers and model.\n",
        "      # data_iterator = data_utils.build_clevr_iterator(\n",
        "      #     batch_size, split=\"train\", resolution=resolution, shuffle=True,\n",
        "      #     max_n_objects=6, get_properties=False, apply_crop=True)\n",
        "\n",
        "      data_iterator = torch.utils.data.DataLoader(trainset, batch_size=batch_size, shuffle=True)\n",
        "\n",
        "      optimizer = torch.optim.Adam(model.parameters(), lr=base_learning_rate)\n",
        "\n",
        "      model = SlotAttentionAutoEncoder(resolution, num_slots, num_iterations)\n",
        "\n",
        "      # Prepare checkpoint manager.\n",
        "      global_step = torch.tensor(0)\n",
        "      # ckpt = tf.train.Checkpoint(\n",
        "      #     network=model, optimizer=optimizer, global_step=global_step)\n",
        "      # ckpt_manager = tf.train.CheckpointManager(\n",
        "      #     checkpoint=ckpt, directory=FLAGS.model_dir, max_to_keep=5)\n",
        "      # ckpt.restore(ckpt_manager.latest_checkpoint)\n",
        "      # if ckpt_manager.latest_checkpoint:\n",
        "      #   logging.info(\"Restored from %s\", ckpt_manager.latest_checkpoint)\n",
        "      # else:\n",
        "      #   logging.info(\"Initializing from scratch.\")\n",
        "\n",
        "      start = time.time()\n",
        "      for _ in range(num_train_steps):\n",
        "        batch = next(data_iterator)\n",
        "\n",
        "        #don't worry about warm up at the moment?\n",
        "        # Learning rate warm-up.\n",
        "        # if global_step < warmup_steps:\n",
        "        #   learning_rate = base_learning_rate * tf.cast(\n",
        "        #       global_step, tf.float32) / tf.cast(warmup_steps, tf.float32)\n",
        "        # else:\n",
        "\n",
        "        learning_rate = base_learning_rate\n",
        "        # learning_rate = learning_rate * (decay_rate ** (\n",
        "        #     tf.cast(global_step, tf.float32) / tf.cast(decay_steps, tf.float32)))\n",
        "        optimizer.lr = learning_rate.numpy()\n",
        "\n",
        "        loss_value = train_step(batch, model, optimizer)\n",
        "\n",
        "        # Update the global step. We update it before logging the loss and saving\n",
        "        # the model so that the last checkpoint is saved at the last iteration.\n",
        "        global_step.assign_add(1)\n",
        "\n",
        "        # Log the training loss.\n",
        "        if not global_step % 100:\n",
        "          print(\"Step: %s, Loss: %.6f, Time: %s\",\n",
        "                      global_step.numpy(), loss_value,\n",
        "                      datetime.timedelta(seconds=time.time() - start))\n",
        "\n",
        "        # # We save the checkpoints every 1000 iterations.\n",
        "        # if not global_step  % 1000:\n",
        "        #   # Save the checkpoint of the model.\n",
        "        #   saved_ckpt = ckpt_manager.save()\n",
        "        #   logging.info(\"Saved checkpoint: %s\", saved_ckpt)\n",
        "\n"
      ],
      "metadata": {
        "id": "7K8LfU0gJM6o"
      },
      "execution_count": null,
      "outputs": []
    },
    {
      "cell_type": "code",
      "source": [
        "trainset = #set equal to just one or two videos for debugging\n",
        "\n",
        "#train the model\n",
        "main()"
      ],
      "metadata": {
        "id": "siR0MsPOXNMu"
      },
      "execution_count": null,
      "outputs": []
    },
    {
      "cell_type": "code",
      "source": [
        "#inference\n",
        "preds = model(batch[\"image\"], training=False)\n",
        "recon_combined, recons, masks, slots = preds\n",
        "\n",
        "#we want just masks"
      ],
      "metadata": {
        "id": "otRN4tqlachS"
      },
      "execution_count": null,
      "outputs": []
    },
    {
      "cell_type": "markdown",
      "source": [
        "#RAFT\n",
        "- RAFT breakdown following https://towardsdatascience.com/optical-flow-with-raft-part-1-f984b4a33993\n",
        "- feel free to update/edit as necessary"
      ],
      "metadata": {
        "id": "6r9tQmD9IT8Q"
      }
    },
    {
      "cell_type": "code",
      "source": [
        "# def feature_encoder(img1, img2, D):\n",
        "#     '''CNN consisting of ~6 residual blocks and downsampling\n",
        "#     Operates on shared weights\n",
        "#     Uses instance normalization\n",
        "#     input: images of size 160, 240, 3; D is number of feature maps\n",
        "#     output: feature maps of each input image with size 20, 30, D\n",
        "#     '''\n",
        "#     return img1_fm, img2_fm"
      ],
      "metadata": {
        "id": "s2qp1BFudVQt"
      },
      "execution_count": null,
      "outputs": []
    },
    {
      "cell_type": "code",
      "source": [
        "# def context_encoder(img1, c, h):\n",
        "#     '''Similar architecture to feature_encoder CNN\n",
        "#     Only extracts weights of img1\n",
        "#     Uses batch normalization\n",
        "#     input: image of size 160, 240, 3; c is number of context feature maps and h is number of hidden feature maps\n",
        "#     output:feature maps of input image with size 20, 30, c+h\n",
        "#     '''\n",
        "#     return context_hidden_fm"
      ],
      "metadata": {
        "id": "lRL6YuIdttJt"
      },
      "execution_count": null,
      "outputs": []
    },
    {
      "cell_type": "code",
      "source": [
        "# def visual_similarity(img1_fm, img2_fm):\n",
        "#     '''Compute the 4D correlation of the feature maps by taking the dot product\n",
        "#     of feature maps for each image and summing accross all feature maps (along dim D)\n",
        "#     input: feature maps from the feature encoder\n",
        "#     output: correlation features of size\n",
        "#     '''\n",
        "#     return corr_features"
      ],
      "metadata": {
        "id": "mdHGGUVwvGuJ"
      },
      "execution_count": null,
      "outputs": []
    },
    {
      "cell_type": "code",
      "source": [
        "# #optional implementation as a means to address larger pixel displacements\n",
        "# #w/o this visual similarity may work well for small displacements but strugger with larger ones\n",
        "# def correlation_pyramid(img1_fm, img2_fm):\n",
        "#     '''use visual similarity function and average pooling of the last two dimensions\n",
        "#     to get multuple levels of correlation\n",
        "#     Add resampling to get correlation features in the right shape for the update block\n",
        "#     input: feature maps from the feature encoder\n",
        "#     output: correlation features of size\n",
        "#     '''\n",
        "#     return corr_features"
      ],
      "metadata": {
        "id": "zJSBgsd7w86Z"
      },
      "execution_count": null,
      "outputs": []
    },
    {
      "cell_type": "code",
      "source": [
        "# #maybe break this function up more\n",
        "# def iterative_update(corr_features, current_flow, context_hidden_fm, warm_start=0):\n",
        "#     '''Recurrently update flow, then pass through a flow head\n",
        "#     Concat correlation features, current flow estimate, context features and hidden features\n",
        "#     In each iteration update the flow: new_flow = current_flow + delta_flow\n",
        "#     Final conv layers to resize estimate to 20, 30, 2\n",
        "#     Convex Upsampling to size 20, 30, (8*8)\n",
        "#     Obtain a weighted combination over the neighborhood and reshape to get a 20x30x2 flow field\n",
        "#     Warm start can be optionally implemented if we have the previously projected estimation and we'd like to start from there instead of 0\n",
        "#     '''\n",
        "#     return final_flow"
      ],
      "metadata": {
        "id": "t3wG9jP7xttV"
      },
      "execution_count": null,
      "outputs": []
    },
    {
      "cell_type": "code",
      "source": [
        "# def training(final_flow, ground_truth):\n",
        "#     '''Loss is the sum of weighted l1 distances between the flow predictions and ground truth,\n",
        "#      with exponentially increasing weights\n",
        "#      '''\n",
        "#     return predictions"
      ],
      "metadata": {
        "id": "wF5GfKgw1XQj"
      },
      "execution_count": null,
      "outputs": []
    }
  ]
}